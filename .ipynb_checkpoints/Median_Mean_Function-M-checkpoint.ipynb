{
 "cells": [
  {
   "cell_type": "markdown",
   "metadata": {},
   "source": [
    "# CSV import"
   ]
  },
  {
   "cell_type": "code",
   "execution_count": 56,
   "metadata": {
    "collapsed": false
   },
   "outputs": [],
   "source": [
    "%matplotlib inline\n",
    "import pandas as pd\n",
    "import matplotlib.pyplot as plt\n",
    "import numpy as np"
   ]
  },
  {
   "cell_type": "markdown",
   "metadata": {},
   "source": [
    "# Mean Function"
   ]
  },
  {
   "cell_type": "code",
   "execution_count": 19,
   "metadata": {
    "collapsed": false
   },
   "outputs": [],
   "source": [
    "def meanFilter(clusterSize, array):\n",
    "    clusterSize = int((clusterSize-1)/2)\n",
    "    \n",
    "    for i in range(clusterSize,len(array)-clusterSize):\n",
    "        previous = []\n",
    "        after = []\n",
    "        xList = []\n",
    "        yList = []\n",
    "        for j in range(1,clusterSize+1):\n",
    "            previous.append(PhoneData[i-j])\n",
    "            after.append(PhoneData[i+j])\n",
    "        ChangeData = PhoneData[i]  \n",
    "    \n",
    "        xList.append(ChangeData[1])\n",
    "        yList.append(ChangeData[2])\n",
    "        for j in range(0,clusterSize):\n",
    "                l = after[j]\n",
    "                xList.append(l[1])\n",
    "                yList.append(l[2])\n",
    "                l = previous[j]\n",
    "                xList.append(l[1])\n",
    "                yList.append(l[2])\n",
    "\n",
    "        meany = np.mean(np.array(yList))\n",
    "        meanx = np.mean(np.array(xList))\n",
    "        ChangeData[1] = meanx\n",
    "        ChangeData[2] = meany\n",
    "        PhoneData[i] = ChangeData\n",
    "    return PhoneData\n",
    "    "
   ]
  },
  {
   "cell_type": "markdown",
   "metadata": {},
   "source": [
    "# Median Function"
   ]
  },
  {
   "cell_type": "code",
   "execution_count": 22,
   "metadata": {
    "collapsed": true
   },
   "outputs": [],
   "source": [
    "def medianFilter(clusterSize, array):\n",
    "    clusterSize = int((clusterSize-1)/2)\n",
    "    \n",
    "    for i in range(clusterSize,len(array)-clusterSize):\n",
    "        previous = []\n",
    "        after = []\n",
    "        xList = []\n",
    "        yList = []\n",
    "        for j in range(1,clusterSize+1):\n",
    "            previous.append(PhoneData[i-j])\n",
    "            after.append(PhoneData[i+j])\n",
    "        ChangeData = PhoneData[i]  \n",
    "    \n",
    "        xList.append(ChangeData[1])\n",
    "        yList.append(ChangeData[2])\n",
    "        for j in range(0,clusterSize):\n",
    "                l = after[j]\n",
    "                xList.append(l[1])\n",
    "                yList.append(l[2])\n",
    "                l = previous[j]\n",
    "                xList.append(l[1])\n",
    "                yList.append(l[2])\n",
    "\n",
    "        meany = np.median(np.array(yList))\n",
    "        meanx = np.median(np.array(xList))\n",
    "        ChangeData[1] = meanx\n",
    "        ChangeData[2] = meany\n",
    "        PhoneData[i] = ChangeData\n",
    "    return PhoneData"
   ]
  },
  {
   "cell_type": "markdown",
   "metadata": {},
   "source": [
    "# Biking"
   ]
  },
  {
   "cell_type": "code",
   "execution_count": null,
   "metadata": {
    "collapsed": true
   },
   "outputs": [],
   "source": [
    "bikingData = pd.read_csv('Biking.csv')\n",
    "bikingDataMatrix = bikingData.as_matrix()"
   ]
  },
  {
   "cell_type": "code",
   "execution_count": null,
   "metadata": {
    "collapsed": true
   },
   "outputs": [],
   "source": [
    "PhoneDataNew = bikingDataMatrix[:,[0,3,4]]\n",
    "PhoneData = PhoneDataNew\n",
    "GRData = bikingDataMatrix[:,0:3]"
   ]
  },
  {
   "cell_type": "code",
   "execution_count": 38,
   "metadata": {
    "collapsed": true
   },
   "outputs": [],
   "source": [
    "DataMed = meanFilter(9,PhoneDataNew)"
   ]
  },
  {
   "cell_type": "code",
   "execution_count": 39,
   "metadata": {
    "collapsed": false
   },
   "outputs": [],
   "source": [
    "DataMean = meanFilter(9,PhoneDataNew)"
   ]
  },
  {
   "cell_type": "code",
   "execution_count": 53,
   "metadata": {
    "collapsed": false
   },
   "outputs": [
    {
     "data": {
      "image/png": "[encoded data removed]",
      "text/plain": [
       "<matplotlib.figure.Figure at 0x11d7e50b8>"
      ]
     },
     "metadata": {},
     "output_type": "display_data"
    }
   ],
   "source": [
    "ax = plt.subplot(111)\n",
    "ax.scatter(PhoneDataNew[:,1],PhoneDataNew[:,2],color='g',s=1)\n",
    "ax.scatter(DataMean[:,1],DataMean[:,2],color='r',s=0.6)\n",
    "ax.scatter(DataMed[:,1],DataMed[:,2],color='b',s=0.2)\n",
    "plt.show()"
   ]
  },
  {
   "cell_type": "markdown",
   "metadata": {},
   "source": [
    "# Walking"
   ]
  },
  {
   "cell_type": "code",
   "execution_count": null,
   "metadata": {
    "collapsed": true
   },
   "outputs": [],
   "source": []
  }
 ],
 "metadata": {
  "anaconda-cloud": {},
  "kernelspec": {
   "display_name": "Python [Root]",
   "language": "python",
   "name": "Python [Root]"
  },
  "language_info": {
   "codemirror_mode": {
    "name": "ipython",
    "version": 3
   },
   "file_extension": ".py",
   "mimetype": "text/x-python",
   "name": "python",
   "nbconvert_exporter": "python",
   "pygments_lexer": "ipython3",
   "version": "3.5.2"
  }
 },
 "nbformat": 4,
 "nbformat_minor": 0
}
